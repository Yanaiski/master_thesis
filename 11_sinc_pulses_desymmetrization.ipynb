{
 "cells": [
  {
   "cell_type": "code",
   "execution_count": 37,
   "metadata": {},
   "outputs": [],
   "source": [
    "%reload_ext autoreload\n",
    "%autoreload 2\n",
    "\n",
    "import numpy as np\n",
    "import qutip as qt\n",
    "import scipy as sp\n",
    "from scipy import linalg\n",
    "import matplotlib\n",
    "import matplotlib.pylab as plt\n",
    "import krotov\n",
    "import os.path\n",
    "import random\n",
    "from matplotlib import rc\n",
    "from cycler import cycler\n",
    "import time\n",
    "import pandas as pd\n",
    "from datetime import date\n",
    "from matplotlib.animation import FuncAnimation\n",
    "\n",
    "from Ps_library import *\n",
    "from Hamiltonian_library import *\n",
    "from config import *\n",
    "rc('font',**{'family':'serif','serif':['Computer Modern'], 'size':20})\n",
    "rc('text', usetex=True)"
   ]
  },
  {
   "cell_type": "code",
   "execution_count": 54,
   "metadata": {},
   "outputs": [
    {
     "name": "stdout",
     "output_type": "stream",
     "text": [
      "0.006666666666666657\n"
     ]
    },
    {
     "data": {
      "text/plain": [
       "<matplotlib.legend.Legend at 0x7f5294a789a0>"
      ]
     },
     "execution_count": 54,
     "metadata": {},
     "output_type": "execute_result"
    },
    {
     "data": {
      "image/png": "[encoded data removed]",
      "text/plain": [
       "<Figure size 640x480 with 1 Axes>"
      ]
     },
     "metadata": {},
     "output_type": "display_data"
    }
   ],
   "source": [
    "system = Ps_system(N_atoms = 1,N_bins = 150)\n",
    "rabi0 = 2*np.pi*(400e-3)\n",
    "chirp = 2*np.pi*(50e-3)\n",
    "detuning = 0\n",
    "direction = 1\n",
    "pulse_duration = 5\n",
    "\n",
    "laser_guess = {\"label\":\"laser\",\"order\":0,\"rabi0\" : rabi0, \"detuning\": detuning,\"chirp\" : chirp,\"pulse_duration\" : pulse_duration,\"unit_wavevector\":direction,\"start\":0,\"end\":int(3*pulse_duration),\"notch\":0}\n",
    "system.init_pulse(laser_guess)\n",
    "system.init_pulse_cycle()\n",
    "system.init_distribution_constant()\n",
    "system.init_states_ground()\n",
    "\n",
    "laser = system.laserDict[0][1]\n",
    "system.create_composite(laser)\n",
    "envelope = lambda t,args: rabi0*np.sinc(t-laser.tcentre)\n",
    "phase = lambda t,args: omega0 \n",
    "\n",
    "\n",
    "\n",
    "psi0 = qt.tensor(qt.Qobj(system.initial_pop),qt.basis(system.internal_dims,0))\n",
    "result = qt.sesolve(H=system.H,psi0=psi0,tlist=laser.tlist,e_ops=system.e_ops)\n",
    "\n",
    "fig,ax = plt.subplots()\n",
    "#system.organise_result_expect(result)\n",
    "#print(np.asarray(result.expect).shape)\n",
    "print()\n",
    "#ax.hist(system.velocity_bins, system.velocity_bins,np.asarray(result.expect)[0:150,0],label=\"1S\")\n",
    "ax.hist(system.velocity_bins, system.velocity_bins,np.asarray(result.expect)[150:300,0],label=\"2P\")\n",
    "plt.legend()\n",
    "\n",
    "# why are both excited and ground states populated at the start ?????"
   ]
  },
  {
   "cell_type": "code",
   "execution_count": null,
   "metadata": {},
   "outputs": [],
   "source": []
  }
 ],
 "metadata": {
  "kernelspec": {
   "display_name": "lasers",
   "language": "python",
   "name": "python3"
  },
  "language_info": {
   "codemirror_mode": {
    "name": "ipython",
    "version": 3
   },
   "file_extension": ".py",
   "mimetype": "text/x-python",
   "name": "python",
   "nbconvert_exporter": "python",
   "pygments_lexer": "ipython3",
   "version": "3.10.8"
  },
  "orig_nbformat": 4,
  "vscode": {
   "interpreter": {
    "hash": "072d9a68f1290cea54301bdb068a546f1393f967465f2daf6e67afc682434bf6"
   }
  }
 },
 "nbformat": 4,
 "nbformat_minor": 2
}
