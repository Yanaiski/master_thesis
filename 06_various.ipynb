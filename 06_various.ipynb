{
 "cells": [
  {
   "cell_type": "code",
   "execution_count": 3,
   "metadata": {},
   "outputs": [],
   "source": [
    "%reload_ext autoreload\n",
    "%autoreload 2\n",
    "\n",
    "import numpy as np\n",
    "import qutip as qt\n",
    "import scipy as sp\n",
    "from scipy import linalg\n",
    "import matplotlib\n",
    "import matplotlib.pylab as plt\n",
    "import krotov\n",
    "import os.path\n",
    "import random\n",
    "from matplotlib import rc\n",
    "from cycler import cycler\n",
    "import time\n",
    "import pandas as pd\n",
    "from datetime import date\n",
    "from Ps_library import *\n",
    "from Hamiltonian_library import *\n",
    "from config import *\n",
    "rc('font',**{'family':'serif','serif':['Computer Modern'], 'size':25})\n",
    "rc('text', usetex=True)"
   ]
  },
  {
   "attachments": {},
   "cell_type": "markdown",
   "metadata": {},
   "source": [
    "# Test to see if population transfer efficiency is deterministic"
   ]
  },
  {
   "cell_type": "code",
   "execution_count": 17,
   "metadata": {},
   "outputs": [
    {
     "name": "stdout",
     "output_type": "stream",
     "text": [
      "10.8%. Run time:   2.21s. Est. time left: 00:00:00:18\n",
      "21.6%. Run time:   4.08s. Est. time left: 00:00:00:14\n",
      "32.4%. Run time:   5.70s. Est. time left: 00:00:00:11\n",
      "40.5%. Run time:   6.62s. Est. time left: 00:00:00:09\n",
      "51.4%. Run time:   7.95s. Est. time left: 00:00:00:07\n",
      "62.2%. Run time:   9.03s. Est. time left: 00:00:00:05\n",
      "70.3%. Run time:  10.16s. Est. time left: 00:00:00:04\n",
      "81.1%. Run time:  11.86s. Est. time left: 00:00:00:02\n",
      "91.9%. Run time:  14.69s. Est. time left: 00:00:00:01\n",
      "Total run time:  16.71s\n"
     ]
    }
   ],
   "source": [
    "system = Ps_system(N_atoms=250)\n",
    "rabi0 = 2*np.pi*(1000e-3)\n",
    "chirp = 2*np.pi*(4000e-3)\n",
    "flip_pulse = {\"rabi0\" : rabi0, \"detuning\": 0,\"chirp\" : chirp,\"pulse_duration\" : 1,\"unit_wavevector\":1,\"start\":0,\"end\":3,\"notch\":1e-6}\n",
    "flip_pulse[\"label\"] = \"laser\"+str(1)\n",
    "system.init_pulse(flip_pulse)\n",
    "system.init_pulse_cycle()\n",
    "system.init_distribution_constant()\n",
    "system.init_states_ground()\n",
    "\n",
    "system.c_ops=[]\n",
    "system.evolve()"
   ]
  },
  {
   "cell_type": "code",
   "execution_count": 16,
   "metadata": {},
   "outputs": [
    {
     "data": {
      "image/png": "[encoded data removed]",
      "text/plain": [
       "<Figure size 640x480 with 1 Axes>"
      ]
     },
     "metadata": {},
     "output_type": "display_data"
    }
   ],
   "source": [
    "plt.plot(system.velocity_bins,np.asarray(system.saved_expect)[0,250:500,-1])\n",
    "plt.show()"
   ]
  },
  {
   "cell_type": "code",
   "execution_count": null,
   "metadata": {},
   "outputs": [],
   "source": [
    "system = Ps_system(1)\n",
    "flip_pulse = {\"rabi0\" : rabi0, \"detuning\": 0,\"chirp\" : rabi0,\"pulse_duration\" : 1,\"unit_wavevector\":1,\"start\":0,\"end\":3,\"notch\":1e-6}\n",
    "flip_pulse[\"label\"] = \"laser\"+str(1)\n",
    "system.init_pulse(flip_pulse)\n",
    "system.init_pulse_cycle()\n",
    "\n",
    "system.initial_pop = np.zeros(system.N_bins)\n",
    "system.initial_pop[system.N_bins//2] = initial_state\n",
    "system.initial_pop[system.N_bins//2] = 1-initial_state\n"
   ]
  }
 ],
 "metadata": {
  "kernelspec": {
   "display_name": "lasers",
   "language": "python",
   "name": "python3"
  },
  "language_info": {
   "codemirror_mode": {
    "name": "ipython",
    "version": 3
   },
   "file_extension": ".py",
   "mimetype": "text/x-python",
   "name": "python",
   "nbconvert_exporter": "python",
   "pygments_lexer": "ipython3",
   "version": "3.10.8 (main, Nov 24 2022, 14:13:03) [GCC 11.2.0]"
  },
  "orig_nbformat": 4,
  "vscode": {
   "interpreter": {
    "hash": "072d9a68f1290cea54301bdb068a546f1393f967465f2daf6e67afc682434bf6"
   }
  }
 },
 "nbformat": 4,
 "nbformat_minor": 2
}
