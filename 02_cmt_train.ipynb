{
 "cells": [
  {
   "cell_type": "code",
   "execution_count": null,
   "metadata": {},
   "outputs": [],
   "source": [
    "import numpy as np\n",
    "import qutip as qt\n",
    "import scipy as sp\n",
    "from scipy import linalg\n",
    "import matplotlib\n",
    "import matplotlib.pylab as plt\n",
    "import krotov\n",
    "import os.path\n",
    "import random\n",
    "from matplotlib import rc\n",
    "from cycler import cycler\n",
    "from cmt import *\n",
    "\n",
    "rc('font',**{'family':'serif','serif':['Computer Modern'], 'size':25})\n",
    "rc('text', usetex=True)\n",
    "plt.rcParams['text.latex.preamble']=[r\"\\usepackage{amsmath}\"]\n",
    "#options = qt.Options(rhs_reuse=True)"
   ]
  },
  {
   "cell_type": "code",
   "execution_count": null,
   "metadata": {},
   "outputs": [],
   "source": [
    "rank = 2 # rank of hamiltonian\n",
    "kets = [qt.basis(2,i) for i in range(rank)]\n",
    "projs = [qt.ket2dm(ket) for ket in kets]\n",
    "c_ops =[]\n",
    "psi0 = qt.fock(2,0)\n",
    "\n",
    "e = 1.6e-19 #coulomb\n",
    "h = 6.63e-34 *1e12/ e #eV ps\n",
    "hbar = 1\n",
    "hbar_eV = 6.582e-16 * 1e12 #eV ps\n",
    "c = 3e8 * 1e-10 # cm/ps\n",
    "\n",
    "N_atoms = int(1e5)\n",
    "\n",
    "T = 300 #K temperature of cloud\n",
    "m = 2*9.1e-31 #kg\n",
    "k = 1.38e-23 # [J K^-1]\n",
    "std_deviation = np.sqrt(k*T/m) #standard deviation of gaussian\n",
    "amplitude = np.sqrt(m/(2*np.pi*k*T))\n",
    "N_bins = 267 #calculated such that 1 bin is the equivalent of 1 unit of photon momentum for Ps\n",
    "\n",
    "\n",
    "velocity_bins = np.linspace(-2e5,2e5,N_bins) #m/s\n",
    "populations = np.zeros(N_bins)\n",
    "for i in range(N_bins-1):\n",
    "    populations[i] = sp.integrate.quad(lambda v: amplitude*np.exp(-v**2/(2*std_deviation**2))*1e5,velocity_bins[i],velocity_bins[i+1])[0]\n",
    "velocity_bins = velocity_bins*1e-10 #cm/ps\n",
    "\n",
    "endTime =  20 #ps \n",
    "mass_ps = 1.022e6 # eV/ c^2 \n",
    "wavelength = 243e-7 #cm\n",
    "wavenumber = 2*np.pi/wavelength\n",
    "momentum_per_photon = hbar_eV*wavenumber #eV ps cm^-1\n",
    "velocity_change_per_photon = momentum_per_photon / mass_ps *c**2 #  cm/ps\n",
    "print(velocity_change_per_photon*1e10, \"m/s\")\n",
    "energy_splitting =  h*c/wavelength\n",
    "omega0 = energy_splitting / hbar / hbar_eV# radians ps^-1\n",
    "period = wavelength/c\n",
    "\n",
    "binwidth = 2*np.pi/omega0*1000\n",
    "N_time = int(endTime/binwidth)\n",
    "tlist = np.linspace(0,endTime,N_time)\n",
    "\n",
    "pulse_duration = 10 #ps\n",
    "tcentre = 10 #ps\n",
    "tlist_centre = np.full(N_time,tcentre)\n"
   ]
  },
  {
   "cell_type": "code",
   "execution_count": null,
   "metadata": {},
   "outputs": [],
   "source": [
    "def evolve(velocity_bins,initial_states,pulse_kwargs):\n",
    "    omega0 = pulse_kwargs[\"omega0\"]\n",
    "    detuning = pulse_kwargs[\"detuning\"]\n",
    "    chirp= pulse_kwargs[\"chirp\"]\n",
    "    rabi0= pulse_kwargs[\"rabi0\"]\n",
    "    pulse_duration = pulse_kwargs[\"pulse_duration\"]\n",
    "    direction = pulse_kwargs[\"direction\"]\n",
    "    \n",
    "    \n",
    "    rabi = lambda t, args: rabi0 * np.exp(-4*np.log(2)*(t-tcentre)**2/pulse_duration**2)\n",
    "    \n",
    "    final_states = []\n",
    "    for i in range(N_bins):\n",
    "        vel = velocity_bins[i]\n",
    "        psi0 = qt.Qobj([[ initial_states[i][0] ],[ initial_states[i][1] ]])\n",
    "\n",
    "        H0 = hbar*qt.Qobj([[0,0],[0,omega0*direction*vel/c +detuning*(1+direction*vel/c)]])\n",
    "        H_chirp = hbar*qt.Qobj([[0,0],[0,chirp*(1+direction*vel/c)]])\n",
    "        H_transition = 0.5*hbar*qt.sigmax()\n",
    "        H = [H0,[H_chirp,tlist-tlist_centre],[H_transition,rabi]]\n",
    "\n",
    "        result = qt.mesolve(H, psi0,tlist,c_ops,e_ops=projs)\n",
    "        final_states.append([result.expect[0][-1],result.expect[1][-1]])\n",
    "    \n",
    "    final_states = np.asarray(final_states)\n",
    "    return final_states \n",
    "\n",
    "def update_states(initial_states, transitions, momentum):\n",
    "    ground = np.asarray([initial_states[i][0] for i in range(N_bins)])\n",
    "    excited = np.asarray([initial_states[i][1] for i in range(N_bins)])\n",
    "\n",
    "\n",
    "    new_pops = np.zeros((N_bins,2))\n",
    "    for i in range(2,N_bins-2):\n",
    "        new_pops[i][0] = ground[i]*(1-transitions[i][0]) + excited[i+momentum]*transitions[i+momentum][1]\n",
    "        new_pops[i][1] =  excited[i]*(1-transitions[i][1]) + ground[i-momentum]*transitions[i-momentum][0]\n",
    "        \n",
    "    return new_pops"
   ]
  },
  {
   "cell_type": "code",
   "execution_count": 117,
   "metadata": {},
   "outputs": [
    {
     "name": "stdout",
     "output_type": "stream",
     "text": [
      "99997.25186719955\n"
     ]
    }
   ],
   "source": [
    "# also another reason to care about chirp is that it allows us to dramatically increase the laser bandwidth and still keep the same pulse duration,\n",
    "# which is important due to the annihilation time of positronium\n",
    "\n",
    "states0 = np.asarray([(1,0) if velocity_bins[i] <= 0 else (0,1) for i in range(N_bins)]) # instantiate states in ground state\n",
    "\n",
    "\n",
    "flip_pulse = {\"rabi0\" : 2*np.pi*(1000e-3), \"detuning\": 0,\"chirp\" : 2*np.pi*(200e-3),\"pulse_duration\" : 10 , \"omega0\" : energy_splitting / hbar / hbar_eV,\"direction\":+1}\n",
    "N_cycles = 1\n",
    "\n",
    "#transitions = evolve(velocity_bins,states0,flip_pulse)\n",
    "new_pops = np.asarray([(states0[i][0]*populations[i], states0[i][1]*populations[i])  for i in range(N_bins)])\n",
    "print(np.sum(new_pops))\n",
    "direction = 1\n",
    "for i in range(N_cycles):\n",
    "    temp_pops = new_pops\n",
    "    for j in range(1,N_bins-1):\n",
    "        # assume population is perfectly inverted\n",
    "        new_pops[j][0] = temp_pops[j+direction][1]\n",
    "        new_pops[j][1] = temp_pops[j-direction][0]\n",
    "    \n",
    "    direction = -direction"
   ]
  },
  {
   "cell_type": "code",
   "execution_count": null,
   "metadata": {},
   "outputs": [],
   "source": [
    "\"\"\" for i in range(N_bins):\n",
    "    if states[i][0] + states[i][1] > 1 or states[i][0] + states[i][1] < 0 :\n",
    "        print(states[i][0] + states[i][1])\n",
    " \"\"\""
   ]
  },
  {
   "cell_type": "code",
   "execution_count": 109,
   "metadata": {},
   "outputs": [
    {
     "name": "stdout",
     "output_type": "stream",
     "text": [
      "99997.25186719955\n",
      "97482.40553063506\n"
     ]
    },
    {
     "name": "stderr",
     "output_type": "stream",
     "text": [
      "WARNING:matplotlib.legend:No artists with labels found to put in legend.  Note that artists whose label start with an underscore are ignored when legend() is called with no argument.\n"
     ]
    },
    {
     "data": {
      "image/png": "[encoded data removed]",
      "text/plain": [
       "<Figure size 576x576 with 1 Axes>"
      ]
     },
     "metadata": {
      "needs_background": "light"
     },
     "output_type": "display_data"
    }
   ],
   "source": [
    "total = np.sum(new_pops,axis=1)\n",
    "total0 = np.sum(np.asarray([(states0[i][0]*populations[i], states0[i][1]*populations[i])  for i in range(N_bins)]),axis=1)\n",
    "print(np.sum(total0))\n",
    "print(np.sum(total))\n",
    "fig = plt.figure(figsize=(8,8))\n",
    "plt.fill_between(velocity_bins*1e10,0,populations,alpha=0.5)\n",
    "plt.plot(velocity_bins*1e10,total,color=\"black\")\n",
    "plt.legend()\n",
    "plt.show()"
   ]
  }
 ],
 "metadata": {
  "kernelspec": {
   "display_name": "Python 3.10.4 ('lasers')",
   "language": "python",
   "name": "python3"
  },
  "language_info": {
   "codemirror_mode": {
    "name": "ipython",
    "version": 3
   },
   "file_extension": ".py",
   "mimetype": "text/x-python",
   "name": "python",
   "nbconvert_exporter": "python",
   "pygments_lexer": "ipython3",
   "version": "3.10.4"
  },
  "orig_nbformat": 4,
  "vscode": {
   "interpreter": {
    "hash": "072d9a68f1290cea54301bdb068a546f1393f967465f2daf6e67afc682434bf6"
   }
  }
 },
 "nbformat": 4,
 "nbformat_minor": 2
}
