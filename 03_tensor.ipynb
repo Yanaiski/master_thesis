{
 "cells": [
  {
   "cell_type": "code",
   "execution_count": 1,
   "metadata": {},
   "outputs": [
    {
     "name": "stderr",
     "output_type": "stream",
     "text": [
      "/tmp/ipykernel_20967/2329249587.py:16: MatplotlibDeprecationWarning: Support for setting an rcParam that expects a str value to a non-str value is deprecated since 3.5 and support will be removed two minor releases later.\n",
      "  plt.rcParams['text.latex.preamble']=[r\"\\usepackage{amsmath}\"]\n"
     ]
    }
   ],
   "source": [
    "import numpy as np\n",
    "import qutip as qt\n",
    "import scipy as sp\n",
    "from scipy import linalg\n",
    "import matplotlib\n",
    "import matplotlib.pylab as plt\n",
    "import krotov\n",
    "import os.path\n",
    "import random\n",
    "from matplotlib import rc\n",
    "from cycler import cycler\n",
    "from cmt import *\n",
    "\n",
    "rc('font',**{'family':'serif','serif':['Computer Modern'], 'size':25})\n",
    "rc('text', usetex=True)\n",
    "plt.rcParams['text.latex.preamble']=[r\"\\usepackage{amsmath}\"]"
   ]
  },
  {
   "cell_type": "code",
   "execution_count": 2,
   "metadata": {},
   "outputs": [
    {
     "name": "stdout",
     "output_type": "stream",
     "text": [
      "247\n"
     ]
    }
   ],
   "source": [
    "e = 1.6e-19 #coulomb\n",
    "h = 6.63e-34 *1e12/ e #eV ps\n",
    "hbar = 1\n",
    "hbar_eV = 6.582e-16 * 1e12 #eV ps\n",
    "c = 3e8 * 1e-10 # cm/ps\n",
    "\n",
    "N_bins = 267 #calculated such that 1 bin is the equivalent of 1 unit of photon momentum for Ps\n",
    "\n",
    "\n",
    "velocity_bins,dv = np.linspace(-2e-5,2e-5,N_bins,retstep=True) #cm/ps\n",
    "\n",
    "endTime =  20 #ps \n",
    "mass_ps = 1.022e6 # eV/ c^2 \n",
    "wavelength = 243e-7 #cm\n",
    "wavenumber = 2*np.pi/wavelength\n",
    "momentum_per_photon = hbar_eV*wavenumber #eV ps cm^-1\n",
    "velocity_change_per_photon = momentum_per_photon / mass_ps *c**2 #  cm/ps\n",
    "energy_splitting =  h*c/wavelength\n",
    "omega0 = energy_splitting / hbar / hbar_eV# radians ps^-1\n",
    "period = wavelength/c\n",
    "\n",
    "binwidth = 2*np.pi/omega0*100\n",
    "N_time = int(endTime/binwidth)\n",
    "tlist = np.linspace(0,endTime,N_time)\n",
    "print(N_time)\n",
    "\n",
    "pulse_duration = 10 #ps\n",
    "tcentre = 10 #ps\n",
    "tlist_centre = np.full(N_time,tcentre)\n",
    "\n"
   ]
  },
  {
   "cell_type": "code",
   "execution_count": 3,
   "metadata": {},
   "outputs": [],
   "source": [
    "rank = 2*N_bins # rank of hamiltonian\n",
    "kets = [qt.basis(rank,i) for i in range(rank)]\n",
    "projs = [qt.ket2dm(ket) for ket in kets]"
   ]
  },
  {
   "cell_type": "code",
   "execution_count": 4,
   "metadata": {},
   "outputs": [
    {
     "data": {
      "text/plain": [
       "' \\nH0 = qt.Qobj([[0,0],[0,omega0*direction*vel/c +detuning*(1+direction*vel/c)]])\\nH_chirp = hbar*qt.Qobj([[0,0],[0,chirp*(1+direction*vel/c)]])\\nH_transition = 0.5*hbar*qt.sigmax()\\nH = [H0,[H_chirp,tlist-tlist_centre],[H_transition,rabi]]\\n '"
      ]
     },
     "execution_count": 4,
     "metadata": {},
     "output_type": "execute_result"
    }
   ],
   "source": [
    "def evolve(velocity_bins,states0,pulse_kwargs):\n",
    "    omega0 = pulse_kwargs[\"omega0\"]\n",
    "    detuning = pulse_kwargs[\"detuning\"]\n",
    "    chirp= pulse_kwargs[\"chirp\"]\n",
    "    rabi0= pulse_kwargs[\"rabi0\"]\n",
    "    pulse_duration = pulse_kwargs[\"pulse_duration\"]\n",
    "    direction = pulse_kwargs[\"direction\"]\n",
    "    \n",
    "    rabi = lambda t, args: rabi0 * np.exp(-4*np.log(2)*(t-tcentre)**2/pulse_duration**2)\n",
    "\n",
    "    tensor1 = qt.tensor(qt.qeye(N_bins),qt.Qobj([[0,0],[0,1]]))\n",
    "    tensorn = qt.tensor(qt.num(N_bins,offset=1),qt.Qobj([[0,0],[0,1]]))\n",
    "    tensord = qt.tensor(qt.qeye(N_bins),qt.sigmax())\n",
    "    \n",
    "    H0 = hbar*(detuning+direction*velocity_bins[0]/c*(omega0+detuning))*tensor1\n",
    "    Hv0 = hbar * dv * (omega0 + detuning) * direction/c * tensorn\n",
    "    \n",
    "    H_v_chirp = hbar*chirp*direction*dv/c*tensorn\n",
    "    H_chirp = hbar * chirp*(1+direction*velocity_bins[0]/c)*tensor1\n",
    "    \n",
    "    H_transition = 0.5*hbar*tensord\n",
    "    #print(H0.dims,Hv0.dims,H_v_chirp.dims,H_chirp.dims,H_transition.dims)\n",
    "    H = [H0,Hv0,[H_chirp+H_v_chirp,tlist-tlist_centre],[H_transition,rabi]]\n",
    "    \n",
    "    opts = qt.Options(store_states=True)\n",
    "    result = qt.mesolve(H, states0,tlist, options = opts)\n",
    "    return result\n",
    "\n",
    "\"\"\" \n",
    "H0 = qt.Qobj([[0,0],[0,omega0*direction*vel/c +detuning*(1+direction*vel/c)]])\n",
    "H_chirp = hbar*qt.Qobj([[0,0],[0,chirp*(1+direction*vel/c)]])\n",
    "H_transition = 0.5*hbar*qt.sigmax()\n",
    "H = [H0,[H_chirp,tlist-tlist_centre],[H_transition,rabi]]\n",
    " \"\"\"\n"
   ]
  },
  {
   "cell_type": "code",
   "execution_count": 11,
   "metadata": {},
   "outputs": [],
   "source": [
    "psi0 = qt.tensor(qt.qeye(N_bins),qt.Qobj([[1,0],[0,0]])) # density matrix, normalised\n",
    "flip_pulse = {\"rabi0\" : 2*np.pi*(1000e-3), \"detuning\": 0,\"chirp\" : 2*np.pi*(200e-3),\"pulse_duration\" : 10 , \"omega0\" : energy_splitting / hbar / hbar_eV,\"direction\":+1}\n",
    "result = evolve(velocity_bins,psi0,flip_pulse)"
   ]
  },
  {
   "cell_type": "code",
   "execution_count": 14,
   "metadata": {},
   "outputs": [
    {
     "name": "stdout",
     "output_type": "stream",
     "text": [
      "266.87607145003835\n"
     ]
    },
    {
     "data": {
      "image/png": "[encoded data removed]",
      "text/plain": [
       "<Figure size 432x288 with 1 Axes>"
      ]
     },
     "metadata": {
      "needs_background": "light"
     },
     "output_type": "display_data"
    }
   ],
   "source": [
    "#print(result.states[-1])\n",
    "excited = np.asarray([np.abs(result.states[-1][2*i+1,2*i+1]) for i in range(N_bins)])\n",
    "#print(excited)\n",
    "print(np.sum(excited))\n",
    "plt.plot(velocity_bins,excited)\n",
    "plt.xlabel(\"vel [cm/ps\")\n",
    "plt.ylabel(r\"$P_e(t_f)$\")\n",
    "plt.title(r\"rabi0={:.3f}, chirp={:.3f}, $\\delta$={:.0f}\".format(flip_pulse[\"rabi0\"],flip_pulse[\"chirp\"],flip_pulse[\"detuning\"])+\"\\n New method\")\n",
    "plt.hlines(1,-2e-5,2e-5,ls=\"dashed\",color=\"black\")\n",
    "#plt.savefig(\"./figures/cmt/new_method.jpg\")\n",
    "plt.show()"
   ]
  },
  {
   "cell_type": "code",
   "execution_count": null,
   "metadata": {},
   "outputs": [],
   "source": []
  },
  {
   "cell_type": "code",
   "execution_count": null,
   "metadata": {},
   "outputs": [],
   "source": []
  }
 ],
 "metadata": {
  "kernelspec": {
   "display_name": "Python 3.10.4 ('lasers')",
   "language": "python",
   "name": "python3"
  },
  "language_info": {
   "codemirror_mode": {
    "name": "ipython",
    "version": 3
   },
   "file_extension": ".py",
   "mimetype": "text/x-python",
   "name": "python",
   "nbconvert_exporter": "python",
   "pygments_lexer": "ipython3",
   "version": "3.10.4"
  },
  "orig_nbformat": 4,
  "vscode": {
   "interpreter": {
    "hash": "072d9a68f1290cea54301bdb068a546f1393f967465f2daf6e67afc682434bf6"
   }
  }
 },
 "nbformat": 4,
 "nbformat_minor": 2
}
