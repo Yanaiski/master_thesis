{
 "cells": [
  {
   "cell_type": "code",
   "execution_count": 1,
   "metadata": {},
   "outputs": [],
   "source": [
    "%reload_ext autoreload\n",
    "%autoreload 2\n",
    "\n",
    "import numpy as np\n",
    "import qutip as qt\n",
    "import scipy as sp\n",
    "from scipy import linalg\n",
    "import matplotlib\n",
    "import matplotlib.pylab as plt\n",
    "import krotov\n",
    "import os.path\n",
    "import random\n",
    "from matplotlib import rc\n",
    "from cycler import cycler\n",
    "import time\n",
    "import pandas as pd\n",
    "from datetime import date\n",
    "from Ps_library_temp import *\n",
    "from Hamiltonian_library import *\n",
    "from config import *\n",
    "rc('font',**{'family':'serif','serif':['Computer Modern'], 'size':25})\n",
    "rc('text', usetex=True)"
   ]
  },
  {
   "attachments": {},
   "cell_type": "markdown",
   "metadata": {},
   "source": [
    "# Use QuTiP's MCsolve to study dissipation of an excited state over time."
   ]
  },
  {
   "attachments": {},
   "cell_type": "markdown",
   "metadata": {},
   "source": [
    "kets = [qt.basis(2,i) for i in range(2)]\n",
    "e_ops = [qt.kets2dm(ket) for ket in kets]\n",
    "\n",
    "c_ops = np.sqrt(1/10)*qt.Qobj([[0,1],[0,0]])\n",
    "H = hbar*omega0*qt.Qobj([[0,0],[0,1]])\n",
    "\n",
    "qt.m"
   ]
  }
 ],
 "metadata": {
  "kernelspec": {
   "display_name": "lasers",
   "language": "python",
   "name": "python3"
  },
  "language_info": {
   "codemirror_mode": {
    "name": "ipython",
    "version": 3
   },
   "file_extension": ".py",
   "mimetype": "text/x-python",
   "name": "python",
   "nbconvert_exporter": "python",
   "pygments_lexer": "ipython3",
   "version": "3.10.8"
  },
  "orig_nbformat": 4,
  "vscode": {
   "interpreter": {
    "hash": "072d9a68f1290cea54301bdb068a546f1393f967465f2daf6e67afc682434bf6"
   }
  }
 },
 "nbformat": 4,
 "nbformat_minor": 2
}
