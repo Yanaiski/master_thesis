{
 "cells": [
  {
   "cell_type": "code",
   "execution_count": 1,
   "metadata": {},
   "outputs": [],
   "source": [
    "import numpy as np\n",
    "import qutip as qt\n",
    "import scipy as sp\n",
    "from scipy import linalg\n",
    "import matplotlib\n",
    "import matplotlib.pylab as plt\n",
    "import krotov\n",
    "import os.path\n",
    "import random\n",
    "from matplotlib import rc\n",
    "from cycler import cycler\n",
    "from cmt import *\n",
    "\n",
    "rc('font',**{'family':'serif','serif':['Computer Modern'], 'size':25})\n",
    "rc('text', usetex=True)"
   ]
  },
  {
   "cell_type": "code",
   "execution_count": 2,
   "metadata": {},
   "outputs": [],
   "source": [
    "e = 1.6e-19 #coulomb\n",
    "h = 6.63e-34 *1e12/ e #eV ps\n",
    "hbar = 1\n",
    "hbar_eV = 6.582e-16 * 1e12 #eV ps\n",
    "c = 3e8 * 1e-10 # cm/ps\n",
    "k = 1.38e-23 # [J K^-1]\n",
    "mass_ps = 1.022e6 # eV/ c^2 \n",
    "wavelength = 243e-7 #cm\n",
    "wavenumber = 2*np.pi/wavelength\n",
    "momentum_per_photon = hbar_eV*wavenumber #eV ps cm^-1\n",
    "velocity_change_per_photon = momentum_per_photon / mass_ps *c**2 #  cm/ps\n",
    "energy_splitting =  h*c/wavelength"
   ]
  },
  {
   "cell_type": "code",
   "execution_count": 25,
   "metadata": {},
   "outputs": [],
   "source": [
    "class laser:\n",
    "    def __init__(self,pulse_kwargs):\n",
    "        # Initialising time-variables\n",
    "        self.omega0 = energy_splitting / hbar / hbar_eV# radians ps^-1\n",
    "        self.endTime =  20 #ps \n",
    "        self.binwidth = 2*np.pi/self.omega0*100\n",
    "        self.N_time = int(self.endTime/self.binwidth)\n",
    "        self.tlist = np.linspace(0,self.endTime,self.N_time)\n",
    "        self.tcentre = int(self.endTime/2) #ps\n",
    "        self.tlist_centre = np.full(self.N_time,self.tcentre)\n",
    "        self.detuning = pulse_kwargs[\"detuning\"]\n",
    "        self.chirp = pulse_kwargs[\"chirp\"]\n",
    "        self.rabi0= pulse_kwargs[\"rabi0\"]\n",
    "        self.pulse_duration = pulse_kwargs[\"pulse_duration\"]\n",
    "        self.direction = pulse_kwargs[\"direction\"]\n",
    "        self.label = pulse_kwargs[\"label\"]\n",
    "\n",
    "        self.rabi = lambda t, args: self.rabi0 * np.exp(-4*np.log(2)*(t-self.tcentre)**2/self.pulse_duration**2)\n",
    "        \n",
    "class Ps_system:\n",
    "    def __init__(self):\n",
    "        self.T = 300 #K temperature of cloud\n",
    "        self.m = 2*9.1e-31 #kg\n",
    "        self.std_deviation = np.sqrt(k*self.T/self.m) #standard deviation of gaussian\n",
    "        self.amplitude = np.sqrt(self.m/(2*np.pi*k*self.T))\n",
    "\n",
    "        self.N_bins = 267 #calculated such that 1 bin is the equivalent of 1 unit of photon momentum for Ps\n",
    "\n",
    "        self.velocity_bins,self.dv = np.linspace(-2e-5,2e-5,self.N_bins,retstep=True) #cm/ps\n",
    "\n",
    "        # Assume Maxwell-Boltzmann distribution\n",
    "        self.N_atoms = int(1e5)\n",
    "        self.initial_MB = np.zeros(self.N_bins)\n",
    "        for i in range(self.N_bins-1):\n",
    "            self.initial_MB[i] = int(sp.integrate.quad(lambda v: self.amplitude*np.exp(-v**2/(2*self.std_deviation**2))*1e5,self.velocity_bins[i]*1e10,self.velocity_bins[i+1]*1e10)[0])\n",
    "\n",
    "        self.laserDict = dict()\n",
    "\n",
    "    # get initial Maxwell-Boltzmann distribution\n",
    "    def get_initial_MBplot(self):\n",
    "        fig,ax = plt.subplots()\n",
    "        ax.plot(self.velocity_bins,self.initial_MB)\n",
    "        ax.set_xlabel(\"velocities [cm/ps]\")\n",
    "        ax.set_ylabel(\"Number of Ps\")\n",
    "        \n",
    "        return fig,ax\n",
    "    \n",
    "\n",
    "    def get_ground(self):\n",
    "        return np.asarray([np.abs(self.states[2*i,2*i]) for i in range(self.N_bins)])\n",
    "    \n",
    "    \n",
    "    def get_excited(self):\n",
    "        return np.asarray([np.abs(self.states[2*i+1,2*i+1]) for i in range(self.N_bins)])\n",
    "\n",
    "\n",
    "    # instantiate a new object with name given by label\n",
    "    def init_pulse(self,pulse_kwargs):\n",
    "        laserLabel = pulse_kwargs[\"label\"]\n",
    "        laserObj = laser(pulse_kwargs)\n",
    "        self.laserDict[laserLabel] = laserObj\n",
    "\n",
    "\n",
    "    # Initialise states in ground\n",
    "    def init_states_ground(self):\n",
    "        vel_DM = qt.Qobj(np.sqrt(self.initial_MB))*qt.Qobj(np.sqrt(self.initial_MB)).dag() # density matrix    \n",
    "        self.states = qt.tensor(vel_DM,qt.Qobj([[1,0],[0,0]])) # density matrix, composite of g/e space and vel space\n",
    "\n",
    "\n",
    "    # Initialise states in excited\n",
    "    def init_states_excited(self):\n",
    "        vel_DM = qt.Qobj(np.sqrt(self.initial_MB))*qt.Qobj(np.sqrt(self.initial_MB)).dag() # density matrix    \n",
    "        self.states = qt.tensor(vel_DM,qt.Qobj([[0,0],[0,1]])) # density matrix\n",
    "\n",
    "    # Initialise desymmetrized states\n",
    "    #def init_states_desymmetrized(self):\n",
    "\n",
    "\n",
    "    def evolve_noCMT(self,laserLabel):\n",
    "        laser = self.laserDict[laserLabel]\n",
    "\n",
    "        tensor1 = qt.tensor(qt.qeye(self.N_bins),qt.Qobj([[0,0],[0,1]]))\n",
    "        tensorn = qt.tensor(qt.num(self.N_bins,offset=1),qt.Qobj([[0,0],[0,1]]))\n",
    "        tensord = qt.tensor(qt.qeye(self.N_bins),qt.sigmax())\n",
    "\n",
    "        H0 = hbar*(laser.detuning+laser.direction*self.velocity_bins[0]/c*(laser.omega0+laser.detuning))*tensor1\n",
    "        Hv0 = hbar * self.dv * (laser.omega0 + laser.detuning) * laser.direction/c * tensorn\n",
    "        H_v_chirp = hbar*laser.chirp*laser.direction*self.dv/c*tensorn\n",
    "        H_chirp = hbar * laser.chirp*(1+laser.direction*self.velocity_bins[0]/c)*tensor1\n",
    "        H_transition = 0.5*hbar*tensord\n",
    "\n",
    "        H = [H0,Hv0,[H_chirp+H_v_chirp,laser.tlist-laser.tlist_centre],[H_transition,laser.rabi]]\n",
    "        \n",
    "        opts = qt.Options(store_states=True)\n",
    "        result = qt.mesolve(H, self.states,laser.tlist, options = opts)\n",
    "        self.states = result.states[-1]\n",
    "\n",
    "    #use for iterating through pulses for cooling\n",
    "    #def __iter__(self):\n",
    "    #def __next__(self):\n",
    "    "
   ]
  },
  {
   "cell_type": "code",
   "execution_count": 26,
   "metadata": {},
   "outputs": [],
   "source": [
    "system = Ps_system()\n",
    "\n",
    "flip_pulse = {\"label\":\"flip\", \"rabi0\" : 2*np.pi*(1000e-3), \"detuning\": 0,\"chirp\" : 2*np.pi*(200e-3),\"pulse_duration\" : 10 ,\"direction\":+1}\n",
    "system.init_pulse(flip_pulse)\n",
    "system.init_states_ground()\n",
    "system.evolve_noCMT(flip_pulse[\"label\"])\n",
    "\n",
    "\n"
   ]
  },
  {
   "cell_type": "code",
   "execution_count": 28,
   "metadata": {},
   "outputs": [
    {
     "data": {
      "image/png": "[encoded data removed]",
      "text/plain": [
       "<Figure size 432x288 with 1 Axes>"
      ]
     },
     "metadata": {
      "needs_background": "light"
     },
     "output_type": "display_data"
    }
   ],
   "source": [
    "excited = system.get_excited()\n",
    "plt.plot(system.velocity_bins,excited)\n",
    "#plt.hlines(1,-2e-5,2e-5,ls=\"dashed\",color=\"black\")\n",
    "plt.show()"
   ]
  }
 ],
 "metadata": {
  "kernelspec": {
   "display_name": "Python 3.10.4 ('lasers')",
   "language": "python",
   "name": "python3"
  },
  "language_info": {
   "codemirror_mode": {
    "name": "ipython",
    "version": 3
   },
   "file_extension": ".py",
   "mimetype": "text/x-python",
   "name": "python",
   "nbconvert_exporter": "python",
   "pygments_lexer": "ipython3",
   "version": "3.10.4"
  },
  "orig_nbformat": 4,
  "vscode": {
   "interpreter": {
    "hash": "072d9a68f1290cea54301bdb068a546f1393f967465f2daf6e67afc682434bf6"
   }
  }
 },
 "nbformat": 4,
 "nbformat_minor": 2
}
