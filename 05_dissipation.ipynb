{
 "cells": [
  {
   "cell_type": "code",
   "execution_count": 3,
   "metadata": {},
   "outputs": [],
   "source": [
    "%reload_ext autoreload\n",
    "%autoreload 2\n",
    "\n",
    "import numpy as np\n",
    "import qutip as qt\n",
    "import scipy as sp\n",
    "from scipy import linalg\n",
    "import matplotlib\n",
    "import matplotlib.pylab as plt\n",
    "import krotov\n",
    "import os.path\n",
    "import random\n",
    "from matplotlib import rc\n",
    "from cycler import cycler\n",
    "import time\n",
    "import pandas as pd\n",
    "from Ps_library import *\n",
    "from Hamiltonian_library import *\n",
    "from config import *\n",
    "rc('font',**{'family':'serif','serif':['Computer Modern'], 'size':25})\n",
    "rc('text', usetex=True)"
   ]
  },
  {
   "attachments": {},
   "cell_type": "markdown",
   "metadata": {},
   "source": [
    "# Simple testing with non-physical systems"
   ]
  },
  {
   "cell_type": "code",
   "execution_count": 2,
   "metadata": {},
   "outputs": [],
   "source": [
    "kets = [qt.basis(2,i) for i in range(2)]\n",
    "e_ops = [qt.ket2dm(ket) for ket in kets]\n",
    "H = hbar*qt.Qobj([[0,0],[0,10]])\n",
    "c_ops = [np.sqrt(0.5)*qt.Qobj([[0,1],[0,0]])]\n",
    "#c_ops = []\n",
    "tlist = np.linspace(0,100,1000)\n",
    "result = qt.mesolve(H,kets[1],tlist,e_ops=e_ops, c_ops=c_ops)"
   ]
  },
  {
   "cell_type": "code",
   "execution_count": 3,
   "metadata": {},
   "outputs": [
    {
     "data": {
      "text/plain": [
       "[<matplotlib.lines.Line2D at 0x7fa234114e20>]"
      ]
     },
     "execution_count": 3,
     "metadata": {},
     "output_type": "execute_result"
    },
    {
     "data": {
      "image/png": "[encoded data removed]",
      "text/plain": [
       "<Figure size 432x288 with 1 Axes>"
      ]
     },
     "metadata": {
      "needs_background": "light"
     },
     "output_type": "display_data"
    }
   ],
   "source": [
    "plt.plot(tlist,result.expect[0])\n",
    "plt.plot(tlist,result.expect[1])"
   ]
  },
  {
   "cell_type": "code",
   "execution_count": null,
   "metadata": {},
   "outputs": [],
   "source": []
  },
  {
   "attachments": {},
   "cell_type": "markdown",
   "metadata": {},
   "source": [
    "# Preliminary testing with the Ps system"
   ]
  },
  {
   "cell_type": "code",
   "execution_count": 16,
   "metadata": {},
   "outputs": [
    {
     "ename": "TypeError",
     "evalue": "Incompatible Qobj shapes",
     "output_type": "error",
     "traceback": [
      "\u001b[0;31m---------------------------------------------------------------------------\u001b[0m",
      "\u001b[0;31mTypeError\u001b[0m                                 Traceback (most recent call last)",
      "\u001b[1;32m/home/yanai/Documents/master_thesis/05_dissipation.ipynb Cell 7\u001b[0m in \u001b[0;36m<cell line: 18>\u001b[0;34m()\u001b[0m\n\u001b[1;32m     <a href='vscode-notebook-cell:/home/yanai/Documents/master_thesis/05_dissipation.ipynb#X10sZmlsZQ%3D%3D?line=15'>16</a>\u001b[0m system\u001b[39m.\u001b[39minit_states_ground()\n\u001b[1;32m     <a href='vscode-notebook-cell:/home/yanai/Documents/master_thesis/05_dissipation.ipynb#X10sZmlsZQ%3D%3D?line=16'>17</a>\u001b[0m \u001b[39m#system.init_states_desymmetrized()\u001b[39;00m\n\u001b[0;32m---> <a href='vscode-notebook-cell:/home/yanai/Documents/master_thesis/05_dissipation.ipynb#X10sZmlsZQ%3D%3D?line=17'>18</a>\u001b[0m system\u001b[39m.\u001b[39;49mset_Hamiltonian_MT_dissipation()\n\u001b[1;32m     <a href='vscode-notebook-cell:/home/yanai/Documents/master_thesis/05_dissipation.ipynb#X10sZmlsZQ%3D%3D?line=18'>19</a>\u001b[0m system\u001b[39m.\u001b[39mevolve()\n",
      "File \u001b[0;32m~/Documents/master_thesis/Hamiltonian_library.py:194\u001b[0m, in \u001b[0;36mHamiltonianClass.set_Hamiltonian_MT_dissipation\u001b[0;34m(self)\u001b[0m\n\u001b[1;32m    191\u001b[0m tensor_ge2 \u001b[39m=\u001b[39m qt\u001b[39m.\u001b[39mtensor(qt\u001b[39m.\u001b[39mQobj(np\u001b[39m.\u001b[39msum(np\u001b[39m.\u001b[39masarray([\u001b[39mself\u001b[39m\u001b[39m.\u001b[39mkets[n]\u001b[39m*\u001b[39m\u001b[39mself\u001b[39m\u001b[39m.\u001b[39mkets[n\u001b[39m+\u001b[39m\u001b[39m1\u001b[39m]\u001b[39m.\u001b[39mdag() \u001b[39mfor\u001b[39;00m n \u001b[39min\u001b[39;00m \u001b[39mrange\u001b[39m(\u001b[39m1\u001b[39m,\u001b[39mself\u001b[39m\u001b[39m.\u001b[39mN_bins\u001b[39m-\u001b[39m\u001b[39m1\u001b[39m)]),axis\u001b[39m=\u001b[39m\u001b[39m0\u001b[39m)),qt\u001b[39m.\u001b[39mQobj([[\u001b[39m0\u001b[39m,\u001b[39m1\u001b[39m],[\u001b[39m0\u001b[39m,\u001b[39m0\u001b[39m]])) \u001b[39m# ground to excited\u001b[39;00m\n\u001b[1;32m    193\u001b[0m H \u001b[39m=\u001b[39m []\n\u001b[0;32m--> 194\u001b[0m H\u001b[39m.\u001b[39mappend(hbar\u001b[39m*\u001b[39m(tensor_num\u001b[39m*\u001b[39;49m\u001b[39m*\u001b[39;49m\u001b[39m2\u001b[39;49m\u001b[39m*\u001b[39;49momega_recoil\u001b[39m*\u001b[39;49m(tensor_g\u001b[39m+\u001b[39;49mtensor_e))) \u001b[39m# kinetic energy\u001b[39;00m\n\u001b[1;32m    195\u001b[0m H\u001b[39m.\u001b[39mappend([hbar\u001b[39m*\u001b[39mtensor_e,\u001b[39mself\u001b[39m\u001b[39m.\u001b[39mchirp]) \u001b[39m# chirp terms\u001b[39;00m\n\u001b[1;32m    196\u001b[0m H\u001b[39m.\u001b[39mappend([\u001b[39m-\u001b[39mhbar\u001b[39m*\u001b[39m\u001b[39mself\u001b[39m\u001b[39m.\u001b[39momega0\u001b[39m*\u001b[39mtensor_vel\u001b[39m/\u001b[39mc\u001b[39m*\u001b[39mtensor_e,\u001b[39mself\u001b[39m\u001b[39m.\u001b[39mwavevector]) \u001b[39m# velocity term\u001b[39;00m\n",
      "File \u001b[0;32m~/anaconda3/envs/lasers/lib/python3.10/site-packages/qutip/qobj.py:555\u001b[0m, in \u001b[0;36mQobj.__mul__\u001b[0;34m(self, other)\u001b[0m\n\u001b[1;32m    552\u001b[0m         \u001b[39mreturn\u001b[39;00m out\u001b[39m.\u001b[39mtidyup() \u001b[39mif\u001b[39;00m settings\u001b[39m.\u001b[39mauto_tidyup \u001b[39melse\u001b[39;00m out\n\u001b[1;32m    554\u001b[0m     \u001b[39melse\u001b[39;00m:\n\u001b[0;32m--> 555\u001b[0m         \u001b[39mraise\u001b[39;00m \u001b[39mTypeError\u001b[39;00m(\u001b[39m\"\u001b[39m\u001b[39mIncompatible Qobj shapes\u001b[39m\u001b[39m\"\u001b[39m)\n\u001b[1;32m    557\u001b[0m \u001b[39melif\u001b[39;00m \u001b[39misinstance\u001b[39m(other, np\u001b[39m.\u001b[39mndarray):\n\u001b[1;32m    558\u001b[0m     \u001b[39mif\u001b[39;00m other\u001b[39m.\u001b[39mdtype \u001b[39m==\u001b[39m \u001b[39m'\u001b[39m\u001b[39mobject\u001b[39m\u001b[39m'\u001b[39m:\n",
      "\u001b[0;31mTypeError\u001b[0m: Incompatible Qobj shapes"
     ]
    }
   ],
   "source": [
    "system = Ps_system()\n",
    "system.N_bins = 251\n",
    "system.kets = [qt.basis(system.N_bins,n) for n in range(system.N_bins)]\n",
    "\n",
    "rate = 1\n",
    "system.c_ops = np.sqrt(rate)*np.asarray([system.kets[-1]*system.kets[n].dag() for n in range(system.N_bins)])\n",
    "\n",
    "flip_pulse = {\"rabi0\" : 2*np.pi*(3000e-3), \"detuning\": 0,\"chirp\" : 2*np.pi*(4000e-3),\"pulse_duration\" : 1,\"unit_wavevector\":1,\"start\":0,\"end\":3,\"notch\":1e-6}\n",
    "flip_pulse[\"label\"] = \"laser\"+str(1)\n",
    "system.init_pulse(flip_pulse)\n",
    "system.init_pulse_cycle()\n",
    "\n",
    "#system.init_distribution_singular()\n",
    "system.init_distribution_constant()\n",
    "#system.init_MBdistribution()\n",
    "system.init_states_ground()\n",
    "#system.init_states_desymmetrized()\n",
    "system.set_Hamiltonian_MT_dissipation()\n",
    "system.evolve()"
   ]
  }
 ],
 "metadata": {
  "kernelspec": {
   "display_name": "Python 3.10.4 ('lasers')",
   "language": "python",
   "name": "python3"
  },
  "language_info": {
   "codemirror_mode": {
    "name": "ipython",
    "version": 3
   },
   "file_extension": ".py",
   "mimetype": "text/x-python",
   "name": "python",
   "nbconvert_exporter": "python",
   "pygments_lexer": "ipython3",
   "version": "3.10.4 (main, Mar 31 2022, 08:41:55) [GCC 7.5.0]"
  },
  "orig_nbformat": 4,
  "vscode": {
   "interpreter": {
    "hash": "072d9a68f1290cea54301bdb068a546f1393f967465f2daf6e67afc682434bf6"
   }
  }
 },
 "nbformat": 4,
 "nbformat_minor": 2
}
